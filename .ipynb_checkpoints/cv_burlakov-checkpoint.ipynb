{
 "cells": [
  {
   "cell_type": "code",
   "execution_count": 1,
   "id": "b637cc6e",
   "metadata": {},
   "outputs": [],
   "source": [
    "import pandas as pd\n",
    "import numpy as np\n",
    "import os\n",
    "import torch\n",
    "import torchvision\n",
    "from sklearn.model_selection import train_test_split\n",
    "import tqdm\n",
    "import matplotlib.pyplot as plt\n",
    "import torch.optim as optim\n",
    "import torch.nn.functional as F\n",
    "import pickle\n",
    "from skimage import io\n",
    "from ipyplot import plot_images\n",
    "from tqdm import tqdm, tqdm_notebook\n",
    "from PIL import Image\n",
    "from pathlib import Path\n",
    "import pytorch_lightning as pl\n",
    "import torch.optim.lr_scheduler as lr_scheduler\n",
    "from torchvision import transforms\n",
    "from multiprocessing.pool import ThreadPool\n",
    "from sklearn.preprocessing import LabelEncoder\n",
    "from torch.utils.data import Dataset, DataLoader\n",
    "import torch.nn as nn\n",
    "from sklearn.metrics import roc_curve, auc\n",
    "from matplotlib import colors, pyplot as plt\n",
    "%matplotlib inline\n",
    "\n",
    "# import warnings\n",
    "# warnings.filterwarnings(action='ignore', category=DeprecationWarning)\n",
    "\n"
   ]
  },
  {
   "cell_type": "code",
   "execution_count": 2,
   "id": "b46bf5ec",
   "metadata": {},
   "outputs": [],
   "source": [
    "# os.environ['KMP_DUPLICATE_LIB_OK'] = 'TRUE'"
   ]
  },
  {
   "cell_type": "code",
   "execution_count": 3,
   "id": "1e64d138",
   "metadata": {},
   "outputs": [
    {
     "name": "stdout",
     "output_type": "stream",
     "text": [
      "Wed Dec 21 01:47:01 2022       \n",
      "+-----------------------------------------------------------------------------+\n",
      "| NVIDIA-SMI 527.56       Driver Version: 527.56       CUDA Version: 12.0     |\n",
      "|-------------------------------+----------------------+----------------------+\n",
      "| GPU  Name            TCC/WDDM | Bus-Id        Disp.A | Volatile Uncorr. ECC |\n",
      "| Fan  Temp  Perf  Pwr:Usage/Cap|         Memory-Usage | GPU-Util  Compute M. |\n",
      "|                               |                      |               MIG M. |\n",
      "|===============================+======================+======================|\n",
      "|   0  NVIDIA GeForce ... WDDM  | 00000000:01:00.0  On |                  N/A |\n",
      "|  0%   45C    P3    41W / 310W |    925MiB /  8192MiB |      4%      Default |\n",
      "|                               |                      |                  N/A |\n",
      "+-------------------------------+----------------------+----------------------+\n",
      "                                                                               \n",
      "+-----------------------------------------------------------------------------+\n",
      "| Processes:                                                                  |\n",
      "|  GPU   GI   CI        PID   Type   Process name                  GPU Memory |\n",
      "|        ID   ID                                                   Usage      |\n",
      "|=============================================================================|\n",
      "|    0   N/A  N/A      1304    C+G   C:\\Windows\\System32\\dwm.exe     N/A      |\n",
      "|    0   N/A  N/A      4376    C+G   ...ge\\Application\\msedge.exe    N/A      |\n",
      "|    0   N/A  N/A      5032    C+G   ...dows\\System32\\dllhost.exe    N/A      |\n",
      "|    0   N/A  N/A      7068    C+G   C:\\Windows\\explorer.exe         N/A      |\n",
      "|    0   N/A  N/A      7660    C+G   ...artMenuExperienceHost.exe    N/A      |\n",
      "|    0   N/A  N/A      7680    C+G   ...\\Programs\\Opera\\opera.exe    N/A      |\n",
      "|    0   N/A  N/A      7968    C+G   ...5n1h2txyewy\\SearchApp.exe    N/A      |\n",
      "|    0   N/A  N/A      8216    C+G   ...2txyewy\\TextInputHost.exe    N/A      |\n",
      "|    0   N/A  N/A      8840    C+G   ...ck\\app-4.29.149\\slack.exe    N/A      |\n",
      "|    0   N/A  N/A      9444    C+G   ...perience\\NVIDIA Share.exe    N/A      |\n",
      "|    0   N/A  N/A      9616    C+G   ...perience\\NVIDIA Share.exe    N/A      |\n",
      "|    0   N/A  N/A     11404    C+G   ... WARP\\Cloudflare WARP.exe    N/A      |\n",
      "|    0   N/A  N/A     11540    C+G   ...r\\Application\\browser.exe    N/A      |\n",
      "|    0   N/A  N/A     12788    C+G   ...y\\ShellExperienceHost.exe    N/A      |\n",
      "+-----------------------------------------------------------------------------+\n"
     ]
    }
   ],
   "source": [
    "# print(torch.cuda.is_available())\n",
    "!nvidia-smi"
   ]
  },
  {
   "cell_type": "code",
   "execution_count": 4,
   "id": "01ca2a2a",
   "metadata": {},
   "outputs": [],
   "source": [
    "def seed_everything(seed=42):\n",
    "    np.random.seed(seed)\n",
    "    torch.manual_seed(seed)\n",
    "    torch.cuda.manual_seed(seed)\n",
    "    torch.backends.cudnn.deterministic = True\n",
    "    \n",
    "seed_everything(seed=42)"
   ]
  },
  {
   "cell_type": "code",
   "execution_count": 5,
   "id": "df581b97",
   "metadata": {},
   "outputs": [
    {
     "data": {
      "text/plain": [
       "device(type='cuda')"
      ]
     },
     "execution_count": 5,
     "metadata": {},
     "output_type": "execute_result"
    }
   ],
   "source": [
    "# разные режимы датасета \n",
    "# DATA_MODES = ['train', 'val', 'test']\n",
    "\n",
    "RESCALE_SIZE = 640 // 2\n",
    "BATCH_SIZE = 64\n",
    "# работаем на видеокарте\n",
    "device = torch.device(\"cuda\") if torch.cuda.is_available() else torch.device('cpu')\n",
    "device"
   ]
  },
  {
   "cell_type": "code",
   "execution_count": 6,
   "id": "4de37bab",
   "metadata": {},
   "outputs": [],
   "source": [
    "class BlurDataset(Dataset):\n",
    "    def __init__(self, df, transform=None):\n",
    "        # Load the data from the CSV file using pandas\n",
    "        self.data = df\n",
    "        self.transform = transform\n",
    "\n",
    "    def __len__(self):\n",
    "        # Return the length of the dataset\n",
    "        return len(self.data)\n",
    "\n",
    "    def __getitem__(self, idx):\n",
    "        # Load the image and label for the given index\n",
    "        image_name = self.data.iloc[idx, 0]\n",
    "        image = Image.open(TRAIN_DIR.absolute().as_posix() + '/' + image_name).convert(\"RGB\")\n",
    "        label = self.data.iloc[idx, 1]\n",
    "        if self.transform:\n",
    "            image = self.transform(image)\n",
    "        return image, label\n"
   ]
  },
  {
   "cell_type": "code",
   "execution_count": 7,
   "id": "05835377",
   "metadata": {},
   "outputs": [],
   "source": [
    "class TestBlurDataset(Dataset):\n",
    "    def __init__(self, test_directory, transform=None):\n",
    "        self.dir = Path(test_directory)\n",
    "        self.names = list(self.dir.rglob('*.jpg'))\n",
    "        self.transform = transform\n",
    "        \n",
    "    def __len__(self):\n",
    "        return len(self.names)\n",
    "    \n",
    "    def __getitem__(self, index):\n",
    "        img_name = self.names[index]\n",
    "        img = Image.open(img_name)\n",
    "        \n",
    "        if self.transform:\n",
    "            img_as_tensor = transform(img)\n",
    "        return img_name.name, img_as_tensor"
   ]
  },
  {
   "cell_type": "code",
   "execution_count": 8,
   "id": "9c3ce4fc",
   "metadata": {},
   "outputs": [],
   "source": [
    "transform = transforms.Compose([\n",
    "    transforms.Resize((RESCALE_SIZE, RESCALE_SIZE)),\n",
    "    transforms.RandomRotation(degrees=30),\n",
    "    transforms.RandomHorizontalFlip(),\n",
    "    transforms.ColorJitter(brightness=0.5, contrast=0.5, saturation=0.5),\n",
    "    transforms.ToTensor(),\n",
    "    transforms.Normalize(mean=[0.485, 0.456, 0.406], std=[0.229, 0.224, 0.225])\n",
    "])"
   ]
  },
  {
   "cell_type": "code",
   "execution_count": 9,
   "id": "3904c487",
   "metadata": {},
   "outputs": [],
   "source": [
    "TRAIN_DIR = Path(r'E:/shift_cv/train/train')\n",
    "TEST_DIR = Path(r'E:/shift_cv/test/test')\n",
    "\n",
    "# train_val_files = sorted(list(TRAIN_DIR.rglob('*.jpg')))\n",
    "test_files = sorted(list(TEST_DIR.rglob('*.jpg')))"
   ]
  },
  {
   "cell_type": "code",
   "execution_count": 10,
   "id": "f0bc097a",
   "metadata": {},
   "outputs": [],
   "source": [
    "train_df = pd.read_csv('E:/shift_cv/train.csv')"
   ]
  },
  {
   "cell_type": "code",
   "execution_count": 11,
   "id": "04f6e66c",
   "metadata": {},
   "outputs": [],
   "source": [
    "# Делим выборку\n",
    "train_files, val_files = train_test_split(train_df, test_size=.2, \\\n",
    "                                         stratify=train_df['blur'], \\\n",
    "                                        random_state=29\n",
    "                                         )"
   ]
  },
  {
   "cell_type": "code",
   "execution_count": 12,
   "id": "e5090db4",
   "metadata": {},
   "outputs": [],
   "source": [
    "# Датасеты\n",
    "# train_dataset = BlurDataset(df=train_df, transform=transform)\n",
    "train_dataset = BlurDataset(df=train_files, transform=transform)\n",
    "val_dataset = BlurDataset(df=val_files, transform=transform)\n",
    "test_dataset = TestBlurDataset(TEST_DIR, transform=transform)\n",
    "\n",
    "\n",
    "# Даталоадеры\n",
    "train_loader = DataLoader(train_dataset,batch_size=BATCH_SIZE, shuffle=True)\n",
    "val_loader = DataLoader(val_dataset, batch_size=BATCH_SIZE, shuffle=True)\n",
    "test_loader = DataLoader(test_dataset)\n",
    "\n"
   ]
  },
  {
   "cell_type": "code",
   "execution_count": 13,
   "id": "42f8a20d",
   "metadata": {},
   "outputs": [],
   "source": [
    "class BlurClassifier(nn.Module):\n",
    "    def __init__(self):\n",
    "        super(BlurClassifier, self).__init__()\n",
    "        self.conv1 = nn.Conv2d(3, 64, kernel_size=3, stride=1, padding=1  ) # 64x320x320\n",
    "        self.bn1 = nn.BatchNorm2d(64)\n",
    "        \n",
    "        self.conv2 = nn.Conv2d(64, 128, kernel_size=3, stride=2, padding=1) #128x160x160\n",
    "        self.bn2 = nn.BatchNorm2d(128)            \n",
    "        \n",
    "        self.conv3 = nn.Conv2d(128, 256, kernel_size=3, stride=2, padding=1) #256x80x80\n",
    "        self.bn3 = nn.BatchNorm2d(256)\n",
    "        \n",
    "        \n",
    "        self.maxpool = nn.MaxPool2d(2, 2) #256x40x40\n",
    "        \n",
    "        self.relu = nn.ReLU()\n",
    "        \n",
    "        self.dropout = nn.Dropout(p=0.5)\n",
    "        \n",
    "        self.fc1 = nn.Linear(256 * 40 * 40, 512)\n",
    "        self.fc2 = nn.Linear(512, 2)\n",
    "        \n",
    "        self.softmax = nn.Softmax(dim=1)\n",
    "        \n",
    "    def forward(self, x):\n",
    "            \n",
    "        x = self.relu(self.conv1(x))\n",
    "        \n",
    "        x = self.relu(self.conv2(x))\n",
    "        \n",
    "        x = self.conv3(x)\n",
    "#         x = self.bn3(x)\n",
    "        \n",
    "        x = self.maxpool(x)\n",
    "        x = x.view(x.size(0), -1)\n",
    "        \n",
    "        x = self.relu(self.fc1(x))\n",
    "        x = self.fc2(x)\n",
    "        \n",
    "        x = self.softmax(x)\n",
    "        \n",
    "        return x\n",
    "        \n",
    "model = BlurClassifier().to(device) "
   ]
  },
  {
   "cell_type": "code",
   "execution_count": 14,
   "id": "0073f8d5",
   "metadata": {},
   "outputs": [],
   "source": [
    "# class BlurClassifier(nn.Module):\n",
    "#     def __init__(self, num_classes=10):\n",
    "#         super(BlurClassifier, self).__init__()\n",
    "\n",
    "#         self.conv1 = nn.Conv2d(3, 64, kernel_size=3, stride=1, padding=1, bias=False)\n",
    "#         self.bn1 = nn.BatchNorm2d(64)\n",
    "        \n",
    "#         self.layer1 = self._make_layer(64, 64, 2)\n",
    "#         self.layer2 = self._make_layer(64, 128, 2)\n",
    "#         self.layer3 = self._make_layer(128, 256, 2)\n",
    "#         self.layer4 = self._make_layer(256, 512, 2)\n",
    "        \n",
    "#         self.avgpool = nn.AdaptiveAvgPool2d((1, 1))\n",
    "#         self.fc = nn.Linear(512, num_classes)\n",
    "\n",
    "#     def _make_layer(self, in_channels, out_channels, num_blocks):\n",
    "#         layers = []\n",
    "#         layers.append(nn.Conv2d(in_channels, out_channels, kernel_size=3, stride=1, padding=1, bias=False))\n",
    "#         layers.append(nn.BatchNorm2d(out_channels))\n",
    "#         for _ in range(num_blocks-1):\n",
    "#             layers.append(nn.Conv2d(out_channels, out_channels, kernel_size=3, stride=1, padding=1, bias=False))\n",
    "#             layers.append(nn.BatchNorm2d(out_channels))\n",
    "#         return nn.Sequential(*layers)\n",
    "\n",
    "#     def forward(self, x):\n",
    "#         x = self.conv1(x)\n",
    "#         x = self.bn1(x)\n",
    "        \n",
    "#         x = self.layer1(x)\n",
    "#         x = self.layer2(x)\n",
    "#         x = self.layer3(x)\n",
    "#         x = self.layer4(x)\n",
    "        \n",
    "#         x = self.avgpool(x)\n",
    "#         x = x.view(x.size(0), -1)\n",
    "#         x = self.fc(x)\n",
    "#         return x\n",
    "# model = BlurClassifier().to(device) "
   ]
  },
  {
   "cell_type": "code",
   "execution_count": 15,
   "id": "86ed1e0d",
   "metadata": {},
   "outputs": [],
   "source": [
    "# class BlurClassifier(nn.Module):\n",
    "#     def __init__(self):\n",
    "#         super(BlurClassifier, self).__init__()\n",
    "#         # Сверточные слои\n",
    "#         self.conv1 = nn.Conv2d(3, 64, kernel_size=5, stride=1, padding=2, bias=False) # 320x320\n",
    "#         self.conv2 = nn.Conv2d(64, 128, kernel_size=3, stride=2, padding=1, bias=False) # 160x160\n",
    "#         self.conv3 = nn.Conv2d(128, 128, kernel_size=5, stride=1, padding=2, bias=False) # 160x160\n",
    "#         self.conv4 = nn.Conv2d(128, 256, kernel_size=3, stride=2, padding=1, bias=False) #80x80\n",
    "        \n",
    "#         # Пуллинг\n",
    "#         self.maxpool = nn.MaxPool2d(kernel_size=2, stride=2) #512x40x40\n",
    "# #         self.avgpool = nn.AdaptiveAvgPool2d((1, 1))\n",
    "#         self.dropout = nn.Dropout(p=0.5)\n",
    "        \n",
    "#         #\n",
    "#         self.bn1 = nn.BatchNorm2d(64)\n",
    "        \n",
    "#         # Полносвязные слои\n",
    "\n",
    "#         self.fc1 = nn.Linear(256 * 40 * 40, 128)\n",
    "#         self.fc2 = nn.Linear(128, 64)\n",
    "#         self.fc3 = nn.Linear(64, 32)\n",
    "#         self.fc4 = nn.Linear(32, 2)\n",
    "\n",
    "        \n",
    "#         # Функции активации\n",
    "#         self.relu = nn.ReLU()\n",
    "#         self.softmax = nn.Softmax(dim=1)\n",
    "\n",
    "#     def forward(self, x):\n",
    "        \n",
    "#         # Сверточные \n",
    "#         x = self.relu(self.conv1(x))\n",
    "# #         print(x.shape)\n",
    "# #         x = self.bn1(x)\n",
    "        \n",
    "#         x = self.relu(self.conv2(x))\n",
    "# #         print(x.shape)\n",
    "#         x = self.relu(self.conv3(x))\n",
    "# #         print(x.shape)\n",
    "#         x = self.conv4(x)\n",
    "# #         print(x.shape)\n",
    "#         x = self.maxpool(x)\n",
    "        \n",
    "#         # Выравниваем\n",
    "#         x = x.view(x.size(0), -1)\n",
    "        \n",
    "#         # Полносвязные\n",
    "#         x = self.relu(self.fc1(x))\n",
    "#         x = self.dropout(x)\n",
    "#         x = self.relu(self.fc2(x))\n",
    "#         x = self.relu(self.fc3(x))\n",
    "#         x = self.fc4(x)\n",
    "\n",
    "        \n",
    "#         # Получаем вероятности\n",
    "#         x = self.softmax(x)\n",
    "#         return x\n",
    "    \n",
    "# # Модель на видеокарту    \n",
    "# model = BlurClassifier().to(device) "
   ]
  },
  {
   "cell_type": "code",
   "execution_count": 16,
   "id": "453faead",
   "metadata": {},
   "outputs": [],
   "source": [
    "class BlurClassifier(nn.Module):\n",
    "    def __init__(self, input_size=(3, 320, 320)):\n",
    "        super(BlurClassifier, self).__init__()\n",
    "        self.input_size = input_size\n",
    "\n",
    "        # Convolutional layers\n",
    "        self.conv1 = nn.Conv2d(self.input_size[0], 32, kernel_size=3, stride=1, padding=1) # 320x320\n",
    "        self.conv2 = nn.Conv2d(32, 64, kernel_size=3, stride=1, padding=1) #160x160\n",
    "        self.conv3 = nn.Conv2d(64, 128, kernel_size=3, stride=1, padding=1) #80x80\n",
    "\n",
    "\n",
    "        # Pooling\n",
    "        self.maxpool = nn.MaxPool2d(kernel_size=2, stride=2)\n",
    "        self.adaptive_pool = nn.AdaptiveAvgPool2d((5, 5)) # Adaptive pooling with output size (5, 5)\n",
    "        # Dropout\n",
    "        self.dropout1 = nn.Dropout(p=0.25)\n",
    "        self.dropout2 = nn.Dropout(p=0.5)\n",
    "\n",
    "        # Batch normalization\n",
    "        self.bn1 = nn.BatchNorm2d(32)\n",
    "        self.bn2 = nn.BatchNorm2d(64)\n",
    "        self.bn3 = nn.BatchNorm2d(128)\n",
    "\n",
    "        # Fully-connected layers\n",
    "        self.fc1 = nn.Linear(128 * 5 * 5, 128)\n",
    "        self.fc2 = nn.Linear(128, 2)\n",
    "\n",
    "        # Activation functions\n",
    "        self.relu = nn.ReLU()\n",
    "        self.relu6 = nn.ReLU6()\n",
    "        self.softmax = nn.Softmax(dim=1)\n",
    "\n",
    "    def forward(self, x):\n",
    "            # Convolutional layers\n",
    "            x = self.relu6(self.bn1(self.conv1(x)))\n",
    "            x = self.maxpool(x)\n",
    "            \n",
    "            x = self.relu(self.bn2(self.conv2(x)))\n",
    "            x = self.maxpool(x)\n",
    "            \n",
    "            x = self.relu6(self.bn3(self.conv3(x)))\n",
    "            x = self.maxpool(x)\n",
    "            x = self.adaptive_pool(x)\n",
    "\n",
    "\n",
    "#             print(x.shape)\n",
    "\n",
    "            # Flatten\n",
    "            x = x.view(x.size(0), -1)\n",
    "            \n",
    "            # Fully-connected layers\n",
    "            x = self.relu6(self.fc1(x))\n",
    "            x = self.dropout1(x)\n",
    "            \n",
    "            x = self.fc2(x)\n",
    "            \n",
    "            \n",
    "            x = self.softmax(x)\n",
    "            \n",
    "            return x\n",
    "            \n",
    "# Модель на GPU    \n",
    "model = BlurClassifier().to(device) "
   ]
  },
  {
   "cell_type": "code",
   "execution_count": 17,
   "id": "ba79e19b",
   "metadata": {
    "scrolled": false
   },
   "outputs": [
    {
     "name": "stdout",
     "output_type": "stream",
     "text": [
      "Adjusting learning rate of group 0 to 1.0000e-03.\n"
     ]
    },
    {
     "name": "stderr",
     "output_type": "stream",
     "text": [
      "\r",
      "  0%|                                                                                          | 0/100 [00:00<?, ?it/s]"
     ]
    },
    {
     "name": "stdout",
     "output_type": "stream",
     "text": [
      "Adjusting learning rate of group 0 to 1.0000e-03.\n"
     ]
    },
    {
     "name": "stderr",
     "output_type": "stream",
     "text": [
      "\r",
      "  1%|▊                                                                                 | 1/100 [00:28<47:09, 28.58s/it]"
     ]
    },
    {
     "name": "stdout",
     "output_type": "stream",
     "text": [
      "AUC: 0.714391398697968\n",
      "Train_loss 0.6207133145893321 \n",
      " Val_loss: 0.7075055241584778\n",
      "Adjusting learning rate of group 0 to 1.0000e-03.\n"
     ]
    },
    {
     "name": "stderr",
     "output_type": "stream",
     "text": [
      "\r",
      "  2%|█▋                                                                                | 2/100 [00:53<43:34, 26.68s/it]"
     ]
    },
    {
     "name": "stdout",
     "output_type": "stream",
     "text": [
      "AUC: 0.8172786968407406\n",
      "Train_loss 0.5647377117591745 \n",
      " Val_loss: 0.5583534472518497\n",
      "Adjusting learning rate of group 0 to 1.0000e-03.\n"
     ]
    },
    {
     "name": "stderr",
     "output_type": "stream",
     "text": [
      "\r",
      "  3%|██▍                                                                               | 3/100 [01:19<42:07, 26.06s/it]"
     ]
    },
    {
     "name": "stdout",
     "output_type": "stream",
     "text": [
      "AUC: 0.881534819491024\n",
      "Train_loss 0.5351804223130731 \n",
      " Val_loss: 0.497980664173762\n",
      "Adjusting learning rate of group 0 to 1.0000e-03.\n"
     ]
    },
    {
     "name": "stderr",
     "output_type": "stream",
     "text": [
      "\r",
      "  4%|███▎                                                                              | 4/100 [01:44<41:16, 25.80s/it]"
     ]
    },
    {
     "name": "stdout",
     "output_type": "stream",
     "text": [
      "AUC: 0.875151480990897\n",
      "Train_loss 0.5139308975023382 \n",
      " Val_loss: 0.5183302925692664\n",
      "Adjusting learning rate of group 0 to 1.0000e-03.\n"
     ]
    },
    {
     "name": "stderr",
     "output_type": "stream",
     "text": [
      "\r",
      "  5%|████                                                                              | 5/100 [02:10<40:37, 25.66s/it]"
     ]
    },
    {
     "name": "stdout",
     "output_type": "stream",
     "text": [
      "AUC: 0.9211312459487642\n",
      "Train_loss 0.5009522192618426 \n",
      " Val_loss: 0.45530539751052856\n",
      "Adjusting learning rate of group 0 to 1.0000e-03.\n"
     ]
    },
    {
     "name": "stderr",
     "output_type": "stream",
     "text": [
      "\r",
      "  6%|████▉                                                                             | 6/100 [02:35<40:02, 25.56s/it]"
     ]
    },
    {
     "name": "stdout",
     "output_type": "stream",
     "text": [
      "AUC: 0.8751232984809627\n",
      "Train_loss 0.4595673671540092 \n",
      " Val_loss: 0.5712116791142358\n",
      "Adjusting learning rate of group 0 to 1.0000e-03.\n"
     ]
    },
    {
     "name": "stderr",
     "output_type": "stream",
     "text": [
      "\r",
      "  7%|█████▋                                                                            | 7/100 [03:00<39:35, 25.54s/it]"
     ]
    },
    {
     "name": "stdout",
     "output_type": "stream",
     "text": [
      "AUC: 0.8933503367809937\n",
      "Train_loss 0.4673057645559311 \n",
      " Val_loss: 0.593837837378184\n",
      "Adjusting learning rate of group 0 to 1.0000e-03.\n"
     ]
    },
    {
     "name": "stderr",
     "output_type": "stream",
     "text": [
      "\r",
      "  8%|██████▌                                                                           | 8/100 [03:26<39:09, 25.54s/it]"
     ]
    },
    {
     "name": "stdout",
     "output_type": "stream",
     "text": [
      "AUC: 0.8918778006369247\n",
      "Train_loss 0.46105507542105284 \n",
      " Val_loss: 0.4981439842118157\n",
      "Adjusting learning rate of group 0 to 1.0000e-03.\n"
     ]
    },
    {
     "name": "stderr",
     "output_type": "stream",
     "text": [
      "\r",
      "  9%|███████▍                                                                          | 9/100 [03:51<38:37, 25.47s/it]"
     ]
    },
    {
     "name": "stdout",
     "output_type": "stream",
     "text": [
      "AUC: 0.9188202801341487\n",
      "Train_loss 0.4583544021143633 \n",
      " Val_loss: 0.6448086102803549\n",
      "Adjusting learning rate of group 0 to 1.0000e-03.\n"
     ]
    },
    {
     "name": "stderr",
     "output_type": "stream",
     "text": [
      "\r",
      " 10%|████████                                                                         | 10/100 [04:17<38:11, 25.46s/it]"
     ]
    },
    {
     "name": "stdout",
     "output_type": "stream",
     "text": [
      "AUC: 0.9495110334526393\n",
      "Train_loss 0.45721370157073526 \n",
      " Val_loss: 0.47692836324373883\n",
      "Adjusting learning rate of group 0 to 1.0000e-03.\n"
     ]
    },
    {
     "name": "stderr",
     "output_type": "stream",
     "text": [
      "\r",
      " 11%|████████▉                                                                        | 11/100 [04:42<37:50, 25.51s/it]"
     ]
    },
    {
     "name": "stdout",
     "output_type": "stream",
     "text": [
      "AUC: 0.90478539018685\n",
      "Train_loss 0.4260421035920872 \n",
      " Val_loss: 0.5035210947195689\n",
      "Adjusting learning rate of group 0 to 1.0000e-04.\n"
     ]
    },
    {
     "name": "stderr",
     "output_type": "stream",
     "text": [
      "\r",
      " 12%|█████████▋                                                                       | 12/100 [05:08<37:25, 25.51s/it]"
     ]
    },
    {
     "name": "stdout",
     "output_type": "stream",
     "text": [
      "AUC: 0.9242876870614097\n",
      "Train_loss 0.42915501401704903 \n",
      " Val_loss: 0.6825041174888611\n",
      "Adjusting learning rate of group 0 to 1.0000e-04.\n"
     ]
    },
    {
     "name": "stderr",
     "output_type": "stream",
     "text": [
      "\r",
      " 13%|██████████▌                                                                      | 13/100 [05:33<37:01, 25.53s/it]"
     ]
    },
    {
     "name": "stdout",
     "output_type": "stream",
     "text": [
      "AUC: 0.9477425809542599\n",
      "Train_loss 0.4199041908278185 \n",
      " Val_loss: 0.42234329051441616\n",
      "Adjusting learning rate of group 0 to 1.0000e-04.\n"
     ]
    },
    {
     "name": "stderr",
     "output_type": "stream",
     "text": [
      "\r",
      " 14%|███████████▎                                                                     | 14/100 [05:59<36:32, 25.50s/it]"
     ]
    },
    {
     "name": "stdout",
     "output_type": "stream",
     "text": [
      "AUC: 0.9523151931911055\n",
      "Train_loss 0.4017043858766556 \n",
      " Val_loss: 0.42695805099275375\n",
      "Adjusting learning rate of group 0 to 1.0000e-04.\n"
     ]
    },
    {
     "name": "stderr",
     "output_type": "stream",
     "text": [
      "\r",
      " 15%|████████████▏                                                                    | 15/100 [06:24<36:03, 25.46s/it]"
     ]
    },
    {
     "name": "stdout",
     "output_type": "stream",
     "text": [
      "AUC: 0.9570569004875574\n",
      "Train_loss 0.3936310156303294 \n",
      " Val_loss: 0.4061761763360765\n",
      "Adjusting learning rate of group 0 to 1.0000e-04.\n"
     ]
    },
    {
     "name": "stderr",
     "output_type": "stream",
     "text": [
      "\r",
      " 16%|████████████▉                                                                    | 16/100 [06:50<35:46, 25.55s/it]"
     ]
    },
    {
     "name": "stdout",
     "output_type": "stream",
     "text": [
      "AUC: 0.9591494518501817\n",
      "Train_loss 0.3944125342018464 \n",
      " Val_loss: 0.4027818573845757\n",
      "Adjusting learning rate of group 0 to 1.0000e-04.\n"
     ]
    },
    {
     "name": "stderr",
     "output_type": "stream",
     "text": [
      "\r",
      " 17%|█████████████▊                                                                   | 17/100 [07:15<35:19, 25.53s/it]"
     ]
    },
    {
     "name": "stdout",
     "output_type": "stream",
     "text": [
      "AUC: 0.967759208635121\n",
      "Train_loss 0.38816596918246327 \n",
      " Val_loss: 0.40410903096199036\n",
      "Adjusting learning rate of group 0 to 1.0000e-04.\n"
     ]
    },
    {
     "name": "stderr",
     "output_type": "stream",
     "text": [
      "\r",
      " 18%|██████████████▌                                                                  | 18/100 [07:41<34:52, 25.52s/it]"
     ]
    },
    {
     "name": "stdout",
     "output_type": "stream",
     "text": [
      "AUC: 0.9614110982724121\n",
      "Train_loss 0.38752858340740204 \n",
      " Val_loss: 0.39709484246042037\n",
      "Adjusting learning rate of group 0 to 1.0000e-04.\n"
     ]
    },
    {
     "name": "stderr",
     "output_type": "stream",
     "text": [
      "\r",
      " 19%|███████████████▍                                                                 | 19/100 [08:07<34:27, 25.52s/it]"
     ]
    },
    {
     "name": "stdout",
     "output_type": "stream",
     "text": [
      "AUC: 0.9628977256714484\n",
      "Train_loss 0.3801540609668283 \n",
      " Val_loss: 0.4023132092422909\n",
      "Adjusting learning rate of group 0 to 1.0000e-04.\n"
     ]
    },
    {
     "name": "stderr",
     "output_type": "stream",
     "text": [
      "\r",
      " 20%|████████████████▏                                                                | 20/100 [08:32<34:02, 25.53s/it]"
     ]
    },
    {
     "name": "stdout",
     "output_type": "stream",
     "text": [
      "AUC: 0.9585646647690444\n",
      "Train_loss 0.38829268865725575 \n",
      " Val_loss: 0.40355828404426575\n",
      "Adjusting learning rate of group 0 to 1.0000e-04.\n"
     ]
    },
    {
     "name": "stderr",
     "output_type": "stream",
     "text": [
      "\r",
      " 21%|█████████████████                                                                | 21/100 [08:58<33:38, 25.55s/it]"
     ]
    },
    {
     "name": "stdout",
     "output_type": "stream",
     "text": [
      "AUC: 0.9641870755009441\n",
      "Train_loss 0.3896230134893866 \n",
      " Val_loss: 0.3926871915658315\n",
      "Adjusting learning rate of group 0 to 1.0000e-04.\n"
     ]
    },
    {
     "name": "stderr",
     "output_type": "stream",
     "text": [
      "\r",
      " 22%|█████████████████▊                                                               | 22/100 [09:23<33:13, 25.55s/it]"
     ]
    },
    {
     "name": "stdout",
     "output_type": "stream",
     "text": [
      "AUC: 0.9729236535805877\n",
      "Train_loss 0.3854135353775585 \n",
      " Val_loss: 0.3889384667078654\n",
      "Adjusting learning rate of group 0 to 1.0000e-04.\n"
     ]
    },
    {
     "name": "stderr",
     "output_type": "stream",
     "text": [
      "\r",
      " 23%|██████████████████▋                                                              | 23/100 [09:49<32:53, 25.63s/it]"
     ]
    },
    {
     "name": "stdout",
     "output_type": "stream",
     "text": [
      "AUC: 0.9619536115886482\n",
      "Train_loss 0.3840791635653552 \n",
      " Val_loss: 0.41135316756036544\n",
      "Adjusting learning rate of group 0 to 1.0000e-05.\n"
     ]
    },
    {
     "name": "stderr",
     "output_type": "stream",
     "text": [
      "\r",
      " 24%|███████████████████▍                                                             | 24/100 [10:15<32:29, 25.65s/it]"
     ]
    },
    {
     "name": "stdout",
     "output_type": "stream",
     "text": [
      "AUC: 0.9777217258969083\n",
      "Train_loss 0.3818064296946806 \n",
      " Val_loss: 0.38956673277748954\n",
      "Adjusting learning rate of group 0 to 1.0000e-05.\n"
     ]
    },
    {
     "name": "stderr",
     "output_type": "stream",
     "text": [
      "\r",
      " 25%|████████████████████▎                                                            | 25/100 [10:40<31:57, 25.57s/it]"
     ]
    },
    {
     "name": "stdout",
     "output_type": "stream",
     "text": [
      "AUC: 0.9651664177211622\n",
      "Train_loss 0.38141368592486663 \n",
      " Val_loss: 0.39222907688882613\n",
      "Adjusting learning rate of group 0 to 1.0000e-05.\n"
     ]
    },
    {
     "name": "stderr",
     "output_type": "stream",
     "text": [
      "\r",
      " 26%|█████████████████████                                                            | 26/100 [11:05<31:26, 25.49s/it]"
     ]
    },
    {
     "name": "stdout",
     "output_type": "stream",
     "text": [
      "AUC: 0.9691049234844855\n",
      "Train_loss 0.3794739412910798 \n",
      " Val_loss: 0.39389487107594806\n",
      "Adjusting learning rate of group 0 to 1.0000e-05.\n"
     ]
    },
    {
     "name": "stderr",
     "output_type": "stream",
     "text": [
      "\r",
      " 27%|█████████████████████▊                                                           | 27/100 [11:31<30:58, 25.46s/it]"
     ]
    },
    {
     "name": "stdout",
     "output_type": "stream",
     "text": [
      "AUC: 0.9638136572443141\n",
      "Train_loss 0.37276244338820963 \n",
      " Val_loss: 0.393962068690194\n",
      "Adjusting learning rate of group 0 to 1.0000e-05.\n"
     ]
    },
    {
     "name": "stderr",
     "output_type": "stream",
     "text": [
      "\r",
      " 28%|██████████████████████▋                                                          | 28/100 [11:56<30:28, 25.40s/it]"
     ]
    },
    {
     "name": "stdout",
     "output_type": "stream",
     "text": [
      "AUC: 0.9763196460276753\n",
      "Train_loss 0.37985510685864615 \n",
      " Val_loss: 0.3780456980069478\n",
      "Adjusting learning rate of group 0 to 1.0000e-05.\n"
     ]
    },
    {
     "name": "stderr",
     "output_type": "stream",
     "text": [
      "\r",
      " 29%|███████████████████████▍                                                         | 29/100 [12:21<30:04, 25.41s/it]"
     ]
    },
    {
     "name": "stdout",
     "output_type": "stream",
     "text": [
      "AUC: 0.966660090747682\n",
      "Train_loss 0.3823373703395619 \n",
      " Val_loss: 0.39203296105066937\n",
      "Adjusting learning rate of group 0 to 1.0000e-05.\n"
     ]
    },
    {
     "name": "stderr",
     "output_type": "stream",
     "text": [
      "\r",
      " 30%|████████████████████████▎                                                        | 30/100 [12:47<29:44, 25.49s/it]"
     ]
    },
    {
     "name": "stdout",
     "output_type": "stream",
     "text": [
      "AUC: 0.9695417523884677\n",
      "Train_loss 0.3754558966440313 \n",
      " Val_loss: 0.3884888423813714\n",
      "Adjusting learning rate of group 0 to 1.0000e-05.\n"
     ]
    },
    {
     "name": "stderr",
     "output_type": "stream",
     "text": [
      "\r",
      " 31%|█████████████████████████                                                        | 31/100 [13:13<29:16, 25.45s/it]"
     ]
    },
    {
     "name": "stdout",
     "output_type": "stream",
     "text": [
      "AUC: 0.9694501592311812\n",
      "Train_loss 0.37592760604970593 \n",
      " Val_loss: 0.37960826026068795\n",
      "Adjusting learning rate of group 0 to 1.0000e-05.\n"
     ]
    },
    {
     "name": "stderr",
     "output_type": "stream",
     "text": [
      " 32%|█████████████████████████▉                                                       | 32/100 [13:38<28:58, 25.57s/it]"
     ]
    },
    {
     "name": "stdout",
     "output_type": "stream",
     "text": [
      "AUC: 0.9809627145393569\n",
      "Train_loss 0.3858935841742684 \n",
      " Val_loss: 0.3733956615130107\n"
     ]
    },
    {
     "name": "stderr",
     "output_type": "stream",
     "text": [
      "\n"
     ]
    }
   ],
   "source": [
    "# Тренировка\n",
    "# Определяем оптимизатор и функцию потерь\n",
    "optimizer = torch.optim.Adam(model.parameters(), lr=0.001)\n",
    "loss_fn = torch.nn.CrossEntropyLoss()\n",
    "\n",
    "\n",
    "# # Задержка\n",
    "# patience = 10\n",
    "\n",
    "# # Счетчик эпох без улучшения результата\n",
    "# no_improvement_count = 0\n",
    "\n",
    "# # Лучший результат\n",
    "# best_performance = 0.0\n",
    "\n",
    "# Расписание уменьшения темпа обучения\n",
    "scheduler = lr_scheduler.StepLR(optimizer, step_size=12, gamma=0.1, verbose=True)\n",
    "\n",
    "# Проходимся по датасету и обновляем параметры модели\n",
    "num_epochs = 100 \n",
    "val_losses = []\n",
    "train_losses = []\n",
    "roc_auc = 0\n",
    "val_loss = 0\n",
    "train_loss = 0\n",
    "for epoch in tqdm(range(num_epochs)):\n",
    "    \n",
    "    \n",
    "    if roc_auc > 0.98 and (val_loss < train_loss):\n",
    "        break\n",
    "    \n",
    "    \n",
    "    model.train()\n",
    "    train_loss = 0\n",
    "    for images, labels in train_loader:\n",
    "        \n",
    "        # Переносим изображения и метки на видеокарту\n",
    "        images = images.to(device)\n",
    "        labels = labels.type(torch.LongTensor).to(device)\n",
    "\n",
    "        # Forward pass\n",
    "        logits = model(images)\n",
    "        \n",
    "        loss = loss_fn(logits, labels)\n",
    "        #Суммируем потери\n",
    "        train_loss += loss.item()\n",
    "        \n",
    "        # Backward pass\n",
    "        optimizer.zero_grad()\n",
    "        loss.backward()\n",
    "        optimizer.step()\n",
    "        \n",
    "    scheduler.step()\n",
    "    train_loss /= len(train_loader)\n",
    "    train_losses.append(train_loss)\n",
    "    \n",
    "# Оцениваем модель\n",
    "# Модель в режим необновления параметров\n",
    "    model.eval()\n",
    "\n",
    "    # Списки с правильными и предсказанными метками\n",
    "    true_labels = []\n",
    "    pred_probs = []\n",
    "\n",
    "    # Проходимся по оценочному датасету\n",
    "    val_loss = 0\n",
    "    with torch.no_grad():\n",
    "        for images, labels in val_loader:\n",
    "            \n",
    "            # Данные на GPU\n",
    "            images = images.to(device)\n",
    "            labels = labels.type(torch.LongTensor).to(device)\n",
    "\n",
    "            # Forward pass\n",
    "            logits = model(images)\n",
    "            # Получаем вероятности\n",
    "            pred_prob = torch.softmax(logits, dim=1)[:, 1]\n",
    "            \n",
    "            # добавляем рельные и предсказанные метки\n",
    "            true_labels.extend(labels.cpu().numpy())\n",
    "            pred_probs.extend(pred_prob.cpu().numpy())\n",
    "            \n",
    "            # Суммируем потери на оценке\n",
    "            val_loss += loss_fn(logits, labels).item()\n",
    "            \n",
    "    # Вычисляем потерю на вскх батчах\n",
    "    val_loss /= len(val_loader)\n",
    "    val_losses.append(val_loss)\n",
    "    \n",
    "    # Вычисляем ROC AUC\n",
    "    fpr, tpr, thresholds = roc_curve(true_labels, pred_probs)\n",
    "    roc_auc = auc(fpr, tpr)\n",
    "    \n",
    "    \n",
    "    print(\"AUC:\", roc_auc)\n",
    "    print('Train_loss',train_loss, '\\n', 'Val_loss:', val_loss)\n",
    "    \n",
    "\n",
    "    \n",
    "#   # Compute the performance on the validation set\n",
    "#     performance = roc_auc\n",
    "\n",
    "#   # Check if the performance is the best seen so far\n",
    "#     if performance > best_performance:\n",
    "#     # Update the best performance and reset the counter\n",
    "#         best_performance = performance\n",
    "#         no_improvement_count = 0\n",
    "#     else:\n",
    "#     # Increment the counter\n",
    "#         no_improvement_count += 1\n",
    "\n",
    "#   # Check if the counter has reached the patience value\n",
    "#     if no_improvement_count == patience:\n",
    "#     # Stop the training process\n",
    "#         break\n"
   ]
  },
  {
   "cell_type": "code",
   "execution_count": 18,
   "id": "56d5d069",
   "metadata": {},
   "outputs": [
    {
     "data": {
      "image/png": "[encoded data removed]",
      "text/plain": [
       "<Figure size 1080x648 with 1 Axes>"
      ]
     },
     "metadata": {
      "needs_background": "light"
     },
     "output_type": "display_data"
    }
   ],
   "source": [
    "plt.figure(figsize=(15, 9))\n",
    "plt.plot(train_losses, label=\"train_loss\")\n",
    "plt.plot(val_losses, label=\"val_loss\")\n",
    "plt.legend(loc='best')\n",
    "plt.xlabel(\"epochs\")\n",
    "plt.ylabel(\"loss\")\n",
    "plt.show()"
   ]
  },
  {
   "cell_type": "code",
   "execution_count": 19,
   "id": "3b4c1d85",
   "metadata": {},
   "outputs": [],
   "source": [
    "torch.save(model.state_dict(), 'model.pth')"
   ]
  },
  {
   "cell_type": "code",
   "execution_count": 20,
   "id": "58616a61",
   "metadata": {},
   "outputs": [],
   "source": [
    "def submission(model, test_loader):\n",
    "    model.eval()\n",
    "    model.to('cpu')\n",
    "    res = {}\n",
    "    for name, data in test_loader:\n",
    "        out = model(data)\n",
    "        out = torch.softmax(out, dim=1)[:, 1].detach().numpy()\n",
    "        res[name[0]] = round(float(out), 4)\n",
    "    data = {'filename': res.keys(), 'blur': res.values()}\n",
    "    return pd.DataFrame(data=data)\n"
   ]
  },
  {
   "cell_type": "code",
   "execution_count": 21,
   "id": "4a6e2df4",
   "metadata": {
    "scrolled": true
   },
   "outputs": [],
   "source": [
    "submission = submission(model, test_loader)"
   ]
  },
  {
   "cell_type": "code",
   "execution_count": 22,
   "id": "d3658da4",
   "metadata": {},
   "outputs": [],
   "source": [
    "submission.to_csv('./submission.csv', index_label=False, index=False)"
   ]
  },
  {
   "cell_type": "code",
   "execution_count": 23,
   "id": "9d34df61",
   "metadata": {},
   "outputs": [
    {
     "data": {
      "text/html": [
       "<div>\n",
       "<style scoped>\n",
       "    .dataframe tbody tr th:only-of-type {\n",
       "        vertical-align: middle;\n",
       "    }\n",
       "\n",
       "    .dataframe tbody tr th {\n",
       "        vertical-align: top;\n",
       "    }\n",
       "\n",
       "    .dataframe thead th {\n",
       "        text-align: right;\n",
       "    }\n",
       "</style>\n",
       "<table border=\"1\" class=\"dataframe\">\n",
       "  <thead>\n",
       "    <tr style=\"text-align: right;\">\n",
       "      <th></th>\n",
       "      <th>filename</th>\n",
       "      <th>blur</th>\n",
       "    </tr>\n",
       "  </thead>\n",
       "  <tbody>\n",
       "    <tr>\n",
       "      <th>0</th>\n",
       "      <td>aamnsxdfcsnrdkyczxnm.jpg</td>\n",
       "      <td>0.2689</td>\n",
       "    </tr>\n",
       "    <tr>\n",
       "      <th>1</th>\n",
       "      <td>acgycwqzujjxrigweldc.jpg</td>\n",
       "      <td>0.2689</td>\n",
       "    </tr>\n",
       "    <tr>\n",
       "      <th>2</th>\n",
       "      <td>achfvibipchzipmhtjow.jpg</td>\n",
       "      <td>0.7310</td>\n",
       "    </tr>\n",
       "    <tr>\n",
       "      <th>3</th>\n",
       "      <td>adicqesamknapclvcesb.jpg</td>\n",
       "      <td>0.2689</td>\n",
       "    </tr>\n",
       "    <tr>\n",
       "      <th>4</th>\n",
       "      <td>aefilcxppgkwhnusvziq.jpg</td>\n",
       "      <td>0.2689</td>\n",
       "    </tr>\n",
       "    <tr>\n",
       "      <th>...</th>\n",
       "      <td>...</td>\n",
       "      <td>...</td>\n",
       "    </tr>\n",
       "    <tr>\n",
       "      <th>769</th>\n",
       "      <td>zxmhmmdojtrqcpzbfqmo.jpg</td>\n",
       "      <td>0.2689</td>\n",
       "    </tr>\n",
       "    <tr>\n",
       "      <th>770</th>\n",
       "      <td>zyeduzrzwbsdfogyaeug.jpg</td>\n",
       "      <td>0.2689</td>\n",
       "    </tr>\n",
       "    <tr>\n",
       "      <th>771</th>\n",
       "      <td>zyqqhnasbxwsbnbskifk.jpg</td>\n",
       "      <td>0.3477</td>\n",
       "    </tr>\n",
       "    <tr>\n",
       "      <th>772</th>\n",
       "      <td>zytbqidsjtourxzyfasw.jpg</td>\n",
       "      <td>0.2690</td>\n",
       "    </tr>\n",
       "    <tr>\n",
       "      <th>773</th>\n",
       "      <td>zzvskanujrkgxmzcqofh.jpg</td>\n",
       "      <td>0.3901</td>\n",
       "    </tr>\n",
       "  </tbody>\n",
       "</table>\n",
       "<p>774 rows × 2 columns</p>\n",
       "</div>"
      ],
      "text/plain": [
       "                     filename    blur\n",
       "0    aamnsxdfcsnrdkyczxnm.jpg  0.2689\n",
       "1    acgycwqzujjxrigweldc.jpg  0.2689\n",
       "2    achfvibipchzipmhtjow.jpg  0.7310\n",
       "3    adicqesamknapclvcesb.jpg  0.2689\n",
       "4    aefilcxppgkwhnusvziq.jpg  0.2689\n",
       "..                        ...     ...\n",
       "769  zxmhmmdojtrqcpzbfqmo.jpg  0.2689\n",
       "770  zyeduzrzwbsdfogyaeug.jpg  0.2689\n",
       "771  zyqqhnasbxwsbnbskifk.jpg  0.3477\n",
       "772  zytbqidsjtourxzyfasw.jpg  0.2690\n",
       "773  zzvskanujrkgxmzcqofh.jpg  0.3901\n",
       "\n",
       "[774 rows x 2 columns]"
      ]
     },
     "execution_count": 23,
     "metadata": {},
     "output_type": "execute_result"
    }
   ],
   "source": [
    "pd.read_csv('./submission.csv')"
   ]
  },
  {
   "cell_type": "markdown",
   "id": "9a186d30",
   "metadata": {},
   "source": [
    "# Потюнить модель, \n",
    "# завести обучение, валидацию в функции и сделать визуализацию обучения\n",
    "# попробовать разные LR ,\n",
    "#  обучить на всей выборке \n",
    "# учить подольше\n",
    "# сделать для тинька SQl"
   ]
  },
  {
   "cell_type": "code",
   "execution_count": 24,
   "id": "ffc23a69",
   "metadata": {},
   "outputs": [
    {
     "ename": "NameError",
     "evalue": "name 'sfsdf' is not defined",
     "output_type": "error",
     "traceback": [
      "\u001b[1;31m---------------------------------------------------------------------------\u001b[0m",
      "\u001b[1;31mNameError\u001b[0m                                 Traceback (most recent call last)",
      "\u001b[1;32m~\\AppData\\Local\\Temp/ipykernel_2388/2613872506.py\u001b[0m in \u001b[0;36m<module>\u001b[1;34m\u001b[0m\n\u001b[1;32m----> 1\u001b[1;33m \u001b[0msfsdf\u001b[0m\u001b[1;33m\u001b[0m\u001b[1;33m\u001b[0m\u001b[0m\n\u001b[0m",
      "\u001b[1;31mNameError\u001b[0m: name 'sfsdf' is not defined"
     ]
    }
   ],
   "source": [
    "sfsdf"
   ]
  },
  {
   "cell_type": "code",
   "execution_count": null,
   "id": "b23b1443",
   "metadata": {
    "scrolled": false
   },
   "outputs": [],
   "source": [
    "num_epochs = 10\n",
    "\n",
    "for epochs in tqdm(range(num_epochs)):\n",
    "    \n",
    "    running_loss = 0.0\n",
    "    for inputs, labels in tqdm(train_loader):\n",
    "        print(inputs.shape)\n",
    "        inputs = inputs.to(device)\n",
    "        \n",
    "        #обнуляем градиенты\n",
    "        optimizer.zero_grad()\n",
    "        \n",
    "        # forward\n",
    "        outputs = model(inputs)\n",
    "        loss = criterion(outputs, labels)\n",
    "        \n",
    "        #backward\n",
    "        loss.backward()  \n",
    "        \n",
    "        #optimize\n",
    "        optimizer.step()\n",
    "        \n",
    "        \n",
    "    correct = 0\n",
    "    total = 0\n",
    "    with torch.no_grad():\n",
    "        for inputs, labels in val_loader:\n",
    "#             inputs = inputs.to('cuda')\n",
    "            outputs = model(inputs)\n",
    "            _, predicted = torch.max(outputs.data, 1)\n",
    "            total += labels.size(0)\n",
    "            correct += (predicted == labels).sum().item()\n",
    "    print(f'Epoch {epoch+1}: Val accuracy = {100 * correct / total}%')"
   ]
  },
  {
   "cell_type": "code",
   "execution_count": null,
   "id": "39219cca",
   "metadata": {},
   "outputs": [],
   "source": []
  },
  {
   "cell_type": "code",
   "execution_count": null,
   "id": "86843dda",
   "metadata": {},
   "outputs": [],
   "source": []
  },
  {
   "cell_type": "code",
   "execution_count": null,
   "id": "5fcc9537",
   "metadata": {},
   "outputs": [],
   "source": []
  }
 ],
 "metadata": {
  "kernelspec": {
   "display_name": "Python 3 (ipykernel)",
   "language": "python",
   "name": "python3"
  },
  "language_info": {
   "codemirror_mode": {
    "name": "ipython",
    "version": 3
   },
   "file_extension": ".py",
   "mimetype": "text/x-python",
   "name": "python",
   "nbconvert_exporter": "python",
   "pygments_lexer": "ipython3",
   "version": "3.9.7"
  }
 },
 "nbformat": 4,
 "nbformat_minor": 5
}
