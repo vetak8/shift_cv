{
 "cells": [
  {
   "cell_type": "code",
   "execution_count": 1,
   "id": "b637cc6e",
   "metadata": {},
   "outputs": [],
   "source": [
    "import pandas as pd\n",
    "import numpy as np\n",
    "import os\n",
    "import torch\n",
    "import torchvision\n",
    "from sklearn.model_selection import train_test_split\n",
    "import tqdm\n",
    "import matplotlib.pyplot as plt\n",
    "import torch.optim as optim\n",
    "import torch.nn.functional as F\n",
    "import pickle\n",
    "from skimage import io\n",
    "from ipyplot import plot_images\n",
    "from tqdm import tqdm, tqdm_notebook\n",
    "from PIL import Image\n",
    "from pathlib import Path\n",
    "import pytorch_lightning as pl\n",
    "import torch.optim.lr_scheduler as lr_scheduler\n",
    "from torchvision import transforms\n",
    "from multiprocessing.pool import ThreadPool\n",
    "from sklearn.preprocessing import LabelEncoder\n",
    "from torch.utils.data import Dataset, DataLoader\n",
    "import torch.nn as nn\n",
    "from sklearn.metrics import roc_curve, auc\n",
    "from matplotlib import colors, pyplot as plt\n",
    "%matplotlib inline\n",
    "\n",
    "# import warnings\n",
    "# warnings.filterwarnings(action='ignore', category=DeprecationWarning)\n",
    "\n"
   ]
  },
  {
   "cell_type": "code",
   "execution_count": 2,
   "id": "01ca2a2a",
   "metadata": {},
   "outputs": [],
   "source": [
    "def seed_everything(seed=42):\n",
    "    np.random.seed(seed)\n",
    "    torch.manual_seed(seed)\n",
    "    torch.cuda.manual_seed(seed)\n",
    "    torch.backends.cudnn.deterministic = True\n",
    "    \n",
    "seed_everything(seed=42)"
   ]
  },
  {
   "cell_type": "code",
   "execution_count": 3,
   "id": "df581b97",
   "metadata": {},
   "outputs": [
    {
     "data": {
      "text/plain": [
       "device(type='cuda')"
      ]
     },
     "execution_count": 3,
     "metadata": {},
     "output_type": "execute_result"
    }
   ],
   "source": [
    "# разные режимы датасета \n",
    "# DATA_MODES = ['train', 'val', 'test']\n",
    "\n",
    "RESCALE_SIZE = 640 // 2\n",
    "BATCH_SIZE = 64\n",
    "# работаем на видеокарте\n",
    "device = torch.device(\"cuda\") if torch.cuda.is_available() else torch.device('cpu')\n",
    "device"
   ]
  },
  {
   "cell_type": "code",
   "execution_count": 4,
   "id": "4de37bab",
   "metadata": {},
   "outputs": [],
   "source": [
    "class BlurDataset(Dataset):\n",
    "    def __init__(self, df, transform=None):\n",
    "        # Загружаем датафрейм\n",
    "        self.data = df\n",
    "        self.transform = transform\n",
    "\n",
    "    def __len__(self):\n",
    "        # Возвращает длину датасета\n",
    "        return len(self.data)\n",
    "\n",
    "    def __getitem__(self, idx):\n",
    "        # Загружаем изображение и метку в сответствии с индексом\n",
    "        image_name = self.data.iloc[idx, 0]\n",
    "        image = Image.open(TRAIN_DIR.absolute().as_posix() + '/' + image_name).convert(\"RGB\")\n",
    "        label = self.data.iloc[idx, 1]\n",
    "        if self.transform:\n",
    "            image = self.transform(image)\n",
    "        return image, label\n"
   ]
  },
  {
   "cell_type": "code",
   "execution_count": 5,
   "id": "05835377",
   "metadata": {},
   "outputs": [],
   "source": [
    "class TestBlurDataset(Dataset):\n",
    "    def __init__(self, test_directory, transform=None):\n",
    "        self.dir = Path(test_directory)\n",
    "        self.names = list(self.dir.rglob('*.jpg'))\n",
    "        self.transform = transform\n",
    "        \n",
    "    def __len__(self):\n",
    "        return len(self.names)\n",
    "    \n",
    "    def __getitem__(self, index):\n",
    "        img_name = self.names[index]\n",
    "        img = Image.open(img_name)\n",
    "        \n",
    "        if self.transform:\n",
    "            img_as_tensor = transform(img)\n",
    "        return img_name.name, img_as_tensor"
   ]
  },
  {
   "cell_type": "code",
   "execution_count": 6,
   "id": "9c3ce4fc",
   "metadata": {},
   "outputs": [],
   "source": [
    "transform = transforms.Compose([\n",
    "    transforms.Resize((RESCALE_SIZE, RESCALE_SIZE)),\n",
    "    transforms.RandomRotation(degrees=30),\n",
    "    transforms.RandomHorizontalFlip(),\n",
    "    transforms.ColorJitter(brightness=0.5, contrast=0.5, saturation=0.5),\n",
    "    transforms.ToTensor(),\n",
    "    transforms.Normalize(mean=[0.485, 0.456, 0.406], std=[0.229, 0.224, 0.225])\n",
    "])"
   ]
  },
  {
   "cell_type": "code",
   "execution_count": 7,
   "id": "3904c487",
   "metadata": {},
   "outputs": [],
   "source": [
    "TRAIN_DIR = Path(r'E:/shift_cv/train/train')\n",
    "TEST_DIR = Path(r'E:/shift_cv/test/test')\n",
    "\n",
    "# train_val_files = sorted(list(TRAIN_DIR.rglob('*.jpg')))\n",
    "test_files = sorted(list(TEST_DIR.rglob('*.jpg')))"
   ]
  },
  {
   "cell_type": "code",
   "execution_count": 8,
   "id": "f0bc097a",
   "metadata": {},
   "outputs": [],
   "source": [
    "train_df = pd.read_csv('E:/shift_cv/train.csv')"
   ]
  },
  {
   "cell_type": "code",
   "execution_count": 9,
   "id": "04f6e66c",
   "metadata": {},
   "outputs": [],
   "source": [
    "# Делим выборку\n",
    "train_files, val_files = train_test_split(train_df, test_size=.2, \\\n",
    "                                         stratify=train_df['blur'], \\\n",
    "                                        random_state=29\n",
    "                                         )"
   ]
  },
  {
   "cell_type": "code",
   "execution_count": 10,
   "id": "e5090db4",
   "metadata": {},
   "outputs": [],
   "source": [
    "# Датасеты\n",
    "train_dataset = BlurDataset(df=train_files, transform=transform)\n",
    "val_dataset = BlurDataset(df=val_files, transform=transform)\n",
    "test_dataset = TestBlurDataset(TEST_DIR, transform=transform)\n",
    "\n",
    "\n",
    "# Даталоадеры\n",
    "train_loader = DataLoader(train_dataset,batch_size=BATCH_SIZE, shuffle=True)\n",
    "val_loader = DataLoader(val_dataset, batch_size=BATCH_SIZE, shuffle=True)\n",
    "test_loader = DataLoader(test_dataset)\n",
    "\n"
   ]
  },
  {
   "cell_type": "code",
   "execution_count": 11,
   "id": "453faead",
   "metadata": {},
   "outputs": [],
   "source": [
    "class BlurClassifier(nn.Module):\n",
    "    def __init__(self, input_size=(3, 320, 320)):\n",
    "        super(BlurClassifier, self).__init__()\n",
    "        self.input_size = input_size\n",
    "\n",
    "        # Сверточные слои\n",
    "        self.conv1 = nn.Conv2d(self.input_size[0], 32, kernel_size=3, stride=1, padding=1) # 320x320\n",
    "        self.conv2 = nn.Conv2d(32, 64, kernel_size=3, stride=1, padding=1) #160x160\n",
    "        self.conv3 = nn.Conv2d(64, 128, kernel_size=3, stride=1, padding=1) #80x80\n",
    "\n",
    "\n",
    "        # Pooling\n",
    "        self.maxpool = nn.MaxPool2d(kernel_size=2, stride=2)\n",
    "        self.adaptive_pool = nn.AdaptiveAvgPool2d((5, 5)) # Adaptive pooling with output size (5, 5)\n",
    "        # Dropout\n",
    "        self.dropout1 = nn.Dropout(p=0.25)\n",
    "        self.dropout2 = nn.Dropout(p=0.5)\n",
    "\n",
    "        # Batch normalization\n",
    "        self.bn1 = nn.BatchNorm2d(32)\n",
    "        self.bn2 = nn.BatchNorm2d(64)\n",
    "        self.bn3 = nn.BatchNorm2d(128)\n",
    "\n",
    "        # Fully-connected layers\n",
    "        self.fc1 = nn.Linear(128 * 5 * 5, 128)\n",
    "        self.fc2 = nn.Linear(128, 2)\n",
    "\n",
    "        # Activation functions\n",
    "        self.relu = nn.ReLU()\n",
    "        self.relu6 = nn.ReLU6()\n",
    "        self.softmax = nn.Softmax(dim=1)\n",
    "\n",
    "    def forward(self, x):\n",
    "            # Convolutional layers\n",
    "            x = self.relu6(self.bn1(self.conv1(x)))\n",
    "            x = self.maxpool(x)\n",
    "            \n",
    "            x = self.relu(self.bn2(self.conv2(x)))\n",
    "            x = self.maxpool(x)\n",
    "            \n",
    "            x = self.relu6(self.bn3(self.conv3(x)))\n",
    "            x = self.maxpool(x)\n",
    "            x = self.adaptive_pool(x)\n",
    "\n",
    "\n",
    "#             print(x.shape)\n",
    "\n",
    "            # Flatten\n",
    "            x = x.view(x.size(0), -1)\n",
    "            \n",
    "            # Fully-connected layers\n",
    "            x = self.relu6(self.fc1(x))\n",
    "            x = self.dropout1(x)\n",
    "            \n",
    "            x = self.fc2(x)\n",
    "            \n",
    "            \n",
    "            x = self.softmax(x)\n",
    "            \n",
    "            return x\n",
    "            \n",
    "# Модель на GPU    \n",
    "model = BlurClassifier().to(device) "
   ]
  },
  {
   "cell_type": "code",
   "execution_count": 12,
   "id": "ba79e19b",
   "metadata": {
    "scrolled": false
   },
   "outputs": [
    {
     "name": "stdout",
     "output_type": "stream",
     "text": [
      "Adjusting learning rate of group 0 to 1.0000e-03.\n"
     ]
    },
    {
     "name": "stderr",
     "output_type": "stream",
     "text": [
      "\r",
      "  0%|                                                                                          | 0/100 [00:00<?, ?it/s]"
     ]
    },
    {
     "name": "stdout",
     "output_type": "stream",
     "text": [
      "Adjusting learning rate of group 0 to 1.0000e-03.\n"
     ]
    },
    {
     "name": "stderr",
     "output_type": "stream",
     "text": [
      "\r",
      "  1%|▊                                                                                 | 1/100 [00:28<46:26, 28.15s/it]"
     ]
    },
    {
     "name": "stdout",
     "output_type": "stream",
     "text": [
      "AUC: 0.6791280331426317\n",
      "Train_loss 0.7345850257312551 \n",
      " Val_loss: 0.6526537934939066\n",
      "Adjusting learning rate of group 0 to 1.0000e-03.\n"
     ]
    },
    {
     "name": "stderr",
     "output_type": "stream",
     "text": [
      "\r",
      "  2%|█▋                                                                                | 2/100 [00:53<43:42, 26.76s/it]"
     ]
    },
    {
     "name": "stdout",
     "output_type": "stream",
     "text": [
      "AUC: 0.7278415015641294\n",
      "Train_loss 0.6040271485553068 \n",
      " Val_loss: 0.6363683210478889\n",
      "Adjusting learning rate of group 0 to 1.0000e-03.\n"
     ]
    },
    {
     "name": "stderr",
     "output_type": "stream",
     "text": [
      "\r",
      "  3%|██▍                                                                               | 3/100 [01:19<42:25, 26.25s/it]"
     ]
    },
    {
     "name": "stdout",
     "output_type": "stream",
     "text": [
      "AUC: 0.7989882478933573\n",
      "Train_loss 0.5801509846659267 \n",
      " Val_loss: 0.6063936021592882\n",
      "Adjusting learning rate of group 0 to 1.0000e-03.\n"
     ]
    },
    {
     "name": "stderr",
     "output_type": "stream",
     "text": [
      "\r",
      "  4%|███▎                                                                              | 4/100 [01:45<41:33, 25.97s/it]"
     ]
    },
    {
     "name": "stdout",
     "output_type": "stream",
     "text": [
      "AUC: 0.8069991263421921\n",
      "Train_loss 0.5643663502791348 \n",
      " Val_loss: 0.61063685019811\n",
      "Adjusting learning rate of group 0 to 1.0000e-03.\n"
     ]
    },
    {
     "name": "stderr",
     "output_type": "stream",
     "text": [
      "\r",
      "  5%|████                                                                              | 5/100 [02:10<40:52, 25.82s/it]"
     ]
    },
    {
     "name": "stdout",
     "output_type": "stream",
     "text": [
      "AUC: 0.792900825747541\n",
      "Train_loss 0.5356995042632607 \n",
      " Val_loss: 0.6220958100424873\n",
      "Adjusting learning rate of group 0 to 1.0000e-03.\n"
     ]
    },
    {
     "name": "stderr",
     "output_type": "stream",
     "text": [
      "\r",
      "  6%|████▉                                                                             | 6/100 [02:35<40:06, 25.60s/it]"
     ]
    },
    {
     "name": "stdout",
     "output_type": "stream",
     "text": [
      "AUC: 0.8987825155708367\n",
      "Train_loss 0.5175006486037198 \n",
      " Val_loss: 0.49590492248535156\n",
      "Adjusting learning rate of group 0 to 1.0000e-03.\n"
     ]
    },
    {
     "name": "stderr",
     "output_type": "stream",
     "text": [
      "\r",
      "  7%|█████▋                                                                            | 7/100 [03:01<39:31, 25.50s/it]"
     ]
    },
    {
     "name": "stdout",
     "output_type": "stream",
     "text": [
      "AUC: 0.8603274807654371\n",
      "Train_loss 0.49656879901885986 \n",
      " Val_loss: 0.5256212419933743\n",
      "Adjusting learning rate of group 0 to 1.0000e-03.\n"
     ]
    },
    {
     "name": "stderr",
     "output_type": "stream",
     "text": [
      "\r",
      "  8%|██████▌                                                                           | 8/100 [03:26<39:02, 25.47s/it]"
     ]
    },
    {
     "name": "stdout",
     "output_type": "stream",
     "text": [
      "AUC: 0.839409012766677\n",
      "Train_loss 0.50289927685962 \n",
      " Val_loss: 0.5818572276168399\n",
      "Adjusting learning rate of group 0 to 1.0000e-03.\n"
     ]
    },
    {
     "name": "stderr",
     "output_type": "stream",
     "text": [
      "\r",
      "  9%|███████▍                                                                          | 9/100 [03:51<38:30, 25.39s/it]"
     ]
    },
    {
     "name": "stdout",
     "output_type": "stream",
     "text": [
      "AUC: 0.8991911619648845\n",
      "Train_loss 0.47488322503426494 \n",
      " Val_loss: 0.5338701804478964\n",
      "Adjusting learning rate of group 0 to 1.0000e-03.\n"
     ]
    },
    {
     "name": "stderr",
     "output_type": "stream",
     "text": [
      "\r",
      " 10%|████████                                                                         | 10/100 [04:17<38:03, 25.37s/it]"
     ]
    },
    {
     "name": "stdout",
     "output_type": "stream",
     "text": [
      "AUC: 0.8659428458698533\n",
      "Train_loss 0.4596087573205723 \n",
      " Val_loss: 0.5866971446408166\n",
      "Adjusting learning rate of group 0 to 1.0000e-03.\n"
     ]
    },
    {
     "name": "stderr",
     "output_type": "stream",
     "text": [
      "\r",
      " 11%|████████▉                                                                        | 11/100 [04:42<37:39, 25.39s/it]"
     ]
    },
    {
     "name": "stdout",
     "output_type": "stream",
     "text": [
      "AUC: 0.8283121494800327\n",
      "Train_loss 0.458624632042997 \n",
      " Val_loss: 0.625328368610806\n",
      "Adjusting learning rate of group 0 to 1.0000e-03.\n"
     ]
    },
    {
     "name": "stderr",
     "output_type": "stream",
     "text": [
      "\r",
      " 12%|█████████▋                                                                       | 12/100 [05:07<37:11, 25.35s/it]"
     ]
    },
    {
     "name": "stdout",
     "output_type": "stream",
     "text": [
      "AUC: 0.925076797339571\n",
      "Train_loss 0.4634803954292746 \n",
      " Val_loss: 0.458244178030226\n",
      "Adjusting learning rate of group 0 to 1.0000e-04.\n"
     ]
    },
    {
     "name": "stderr",
     "output_type": "stream",
     "text": [
      "\r",
      " 13%|██████████▌                                                                      | 13/100 [05:33<36:43, 25.33s/it]"
     ]
    },
    {
     "name": "stdout",
     "output_type": "stream",
     "text": [
      "AUC: 0.9381393906941353\n",
      "Train_loss 0.43786683941588683 \n",
      " Val_loss: 0.4820294181505839\n",
      "Adjusting learning rate of group 0 to 1.0000e-04.\n"
     ]
    },
    {
     "name": "stderr",
     "output_type": "stream",
     "text": [
      "\r",
      " 14%|███████████▎                                                                     | 14/100 [05:58<36:17, 25.32s/it]"
     ]
    },
    {
     "name": "stdout",
     "output_type": "stream",
     "text": [
      "AUC: 0.9517797255023532\n",
      "Train_loss 0.4121880943284315 \n",
      " Val_loss: 0.42272433638572693\n",
      "Adjusting learning rate of group 0 to 1.0000e-04.\n"
     ]
    },
    {
     "name": "stderr",
     "output_type": "stream",
     "text": [
      "\r",
      " 15%|████████████▏                                                                    | 15/100 [06:23<35:50, 25.30s/it]"
     ]
    },
    {
     "name": "stdout",
     "output_type": "stream",
     "text": [
      "AUC: 0.9398092044077444\n",
      "Train_loss 0.4053957988234127 \n",
      " Val_loss: 0.43225691715876263\n",
      "Adjusting learning rate of group 0 to 1.0000e-04.\n"
     ]
    },
    {
     "name": "stderr",
     "output_type": "stream",
     "text": [
      "\r",
      " 16%|████████████▉                                                                    | 16/100 [06:49<35:32, 25.39s/it]"
     ]
    },
    {
     "name": "stdout",
     "output_type": "stream",
     "text": [
      "AUC: 0.9458473071611757\n",
      "Train_loss 0.40449263681383696 \n",
      " Val_loss: 0.43253113826115924\n",
      "Adjusting learning rate of group 0 to 1.0000e-04.\n"
     ]
    },
    {
     "name": "stderr",
     "output_type": "stream",
     "text": [
      "\r",
      " 17%|█████████████▊                                                                   | 17/100 [07:14<35:10, 25.43s/it]"
     ]
    },
    {
     "name": "stdout",
     "output_type": "stream",
     "text": [
      "AUC: 0.9422822196544826\n",
      "Train_loss 0.39653100949876446 \n",
      " Val_loss: 0.42859962913725114\n",
      "Adjusting learning rate of group 0 to 1.0000e-04.\n"
     ]
    },
    {
     "name": "stderr",
     "output_type": "stream",
     "text": [
      "\r",
      " 18%|██████████████▌                                                                  | 18/100 [07:40<34:45, 25.43s/it]"
     ]
    },
    {
     "name": "stdout",
     "output_type": "stream",
     "text": [
      "AUC: 0.9495533072175409\n",
      "Train_loss 0.40701133275733276 \n",
      " Val_loss: 0.44018840458658004\n",
      "Adjusting learning rate of group 0 to 1.0000e-04.\n"
     ]
    },
    {
     "name": "stderr",
     "output_type": "stream",
     "text": [
      "\r",
      " 19%|███████████████▍                                                                 | 19/100 [08:05<34:23, 25.47s/it]"
     ]
    },
    {
     "name": "stdout",
     "output_type": "stream",
     "text": [
      "AUC: 0.9594030944395907\n",
      "Train_loss 0.4011666476726532 \n",
      " Val_loss: 0.40797431932555306\n",
      "Adjusting learning rate of group 0 to 1.0000e-04.\n"
     ]
    },
    {
     "name": "stderr",
     "output_type": "stream",
     "text": [
      "\r",
      " 20%|████████████████▏                                                                | 20/100 [08:31<33:55, 25.45s/it]"
     ]
    },
    {
     "name": "stdout",
     "output_type": "stream",
     "text": [
      "AUC: 0.9508074289096187\n",
      "Train_loss 0.3993896517683478 \n",
      " Val_loss: 0.42675597137875027\n",
      "Adjusting learning rate of group 0 to 1.0000e-04.\n"
     ]
    },
    {
     "name": "stderr",
     "output_type": "stream",
     "text": [
      "\r",
      " 21%|█████████████████                                                                | 21/100 [08:56<33:31, 25.46s/it]"
     ]
    },
    {
     "name": "stdout",
     "output_type": "stream",
     "text": [
      "AUC: 0.9650114139165235\n",
      "Train_loss 0.3956785570172703 \n",
      " Val_loss: 0.4090607629881965\n",
      "Adjusting learning rate of group 0 to 1.0000e-04.\n"
     ]
    },
    {
     "name": "stderr",
     "output_type": "stream",
     "text": [
      "\r",
      " 22%|█████████████████▊                                                               | 22/100 [09:22<33:04, 25.45s/it]"
     ]
    },
    {
     "name": "stdout",
     "output_type": "stream",
     "text": [
      "AUC: 0.9585858016514952\n",
      "Train_loss 0.3966009196113138 \n",
      " Val_loss: 0.39653468794292873\n",
      "Adjusting learning rate of group 0 to 1.0000e-04.\n"
     ]
    },
    {
     "name": "stderr",
     "output_type": "stream",
     "text": [
      "\r",
      " 23%|██████████████████▋                                                              | 23/100 [09:47<32:40, 25.46s/it]"
     ]
    },
    {
     "name": "stdout",
     "output_type": "stream",
     "text": [
      "AUC: 0.9580080601978412\n",
      "Train_loss 0.39266854524612427 \n",
      " Val_loss: 0.4119238654772441\n",
      "Adjusting learning rate of group 0 to 1.0000e-04.\n"
     ]
    },
    {
     "name": "stderr",
     "output_type": "stream",
     "text": [
      "\r",
      " 24%|███████████████████▍                                                             | 24/100 [10:13<32:20, 25.53s/it]"
     ]
    },
    {
     "name": "stdout",
     "output_type": "stream",
     "text": [
      "AUC: 0.9540202350421328\n",
      "Train_loss 0.40188661480651183 \n",
      " Val_loss: 0.4142905871073405\n",
      "Adjusting learning rate of group 0 to 1.0000e-04.\n"
     ]
    },
    {
     "name": "stderr",
     "output_type": "stream",
     "text": [
      "\r",
      " 25%|████████████████████▎                                                            | 25/100 [10:38<31:58, 25.58s/it]"
     ]
    },
    {
     "name": "stdout",
     "output_type": "stream",
     "text": [
      "AUC: 0.9607558549164388\n",
      "Train_loss 0.3986275695702609 \n",
      " Val_loss: 0.3913227253490024\n",
      "Adjusting learning rate of group 0 to 1.0000e-05.\n"
     ]
    },
    {
     "name": "stderr",
     "output_type": "stream",
     "text": [
      "\r",
      " 26%|█████████████████████                                                            | 26/100 [11:06<32:08, 26.06s/it]"
     ]
    },
    {
     "name": "stdout",
     "output_type": "stream",
     "text": [
      "AUC: 0.9628836344164812\n",
      "Train_loss 0.3887031779569738 \n",
      " Val_loss: 0.4026671912935045\n",
      "Adjusting learning rate of group 0 to 1.0000e-05.\n"
     ]
    },
    {
     "name": "stderr",
     "output_type": "stream",
     "text": [
      "\r",
      " 27%|█████████████████████▊                                                           | 27/100 [11:32<31:44, 26.09s/it]"
     ]
    },
    {
     "name": "stdout",
     "output_type": "stream",
     "text": [
      "AUC: 0.9602837978750387\n",
      "Train_loss 0.3842405554126291 \n",
      " Val_loss: 0.4007840355237325\n",
      "Adjusting learning rate of group 0 to 1.0000e-05.\n"
     ]
    },
    {
     "name": "stderr",
     "output_type": "stream",
     "text": [
      "\r",
      " 28%|██████████████████████▋                                                          | 28/100 [11:58<31:15, 26.05s/it]"
     ]
    },
    {
     "name": "stdout",
     "output_type": "stream",
     "text": [
      "AUC: 0.9682242200490375\n",
      "Train_loss 0.3866818906629787 \n",
      " Val_loss: 0.3903194699022505\n",
      "Adjusting learning rate of group 0 to 1.0000e-05.\n"
     ]
    },
    {
     "name": "stderr",
     "output_type": "stream",
     "text": [
      " 29%|███████████████████████▍                                                         | 29/100 [12:24<30:22, 25.67s/it]"
     ]
    },
    {
     "name": "stdout",
     "output_type": "stream",
     "text": [
      "AUC: 0.97410731899783\n",
      "Train_loss 0.38959308406885934 \n",
      " Val_loss: 0.38452767001258004\n"
     ]
    },
    {
     "name": "stderr",
     "output_type": "stream",
     "text": [
      "\n"
     ]
    }
   ],
   "source": [
    "# Тренировка\n",
    "# Определяем оптимизатор и функцию потерь\n",
    "optimizer = torch.optim.Adam(model.parameters(), lr=0.001)\n",
    "loss_fn = torch.nn.CrossEntropyLoss()\n",
    "\n",
    "\n",
    "\n",
    "# Расписание уменьшения темпа обучения\n",
    "scheduler = lr_scheduler.StepLR(optimizer, step_size=13, gamma=0.1, verbose=True)\n",
    "\n",
    "# Проходимся по датасету и обновляем параметры модели\n",
    "num_epochs = 100 \n",
    "val_losses = []\n",
    "train_losses = []\n",
    "roc_auc = 0\n",
    "val_loss = 0\n",
    "train_loss = 0\n",
    "for epoch in tqdm(range(num_epochs)):\n",
    "    \n",
    "    \n",
    "    if roc_auc > 0.97:\n",
    "        break\n",
    "    \n",
    "    \n",
    "    model.train()\n",
    "    train_loss = 0\n",
    "    for images, labels in train_loader:\n",
    "        \n",
    "        # Переносим изображения и метки на видеокарту\n",
    "        images = images.to(device)\n",
    "        labels = labels.type(torch.LongTensor).to(device)\n",
    "\n",
    "        # Forward pass\n",
    "        logits = model(images)\n",
    "        \n",
    "        loss = loss_fn(logits, labels)\n",
    "        #Суммируем потери\n",
    "        train_loss += loss.item()\n",
    "        \n",
    "        # Backward pass\n",
    "        optimizer.zero_grad()\n",
    "        loss.backward()\n",
    "        optimizer.step()\n",
    "        \n",
    "    scheduler.step()\n",
    "    train_loss /= len(train_loader)\n",
    "    train_losses.append(train_loss)\n",
    "    \n",
    "# Оцениваем модель\n",
    "# Модель в режим необновления параметров\n",
    "    model.eval()\n",
    "\n",
    "    # Списки с правильными и предсказанными метками\n",
    "    true_labels = []\n",
    "    pred_probs = []\n",
    "\n",
    "    # Проходимся по оценочному датасету\n",
    "    val_loss = 0\n",
    "    with torch.no_grad():\n",
    "        for images, labels in val_loader:\n",
    "            \n",
    "            # Данные на GPU\n",
    "            images = images.to(device)\n",
    "            labels = labels.type(torch.LongTensor).to(device)\n",
    "\n",
    "            # Forward pass\n",
    "            logits = model(images)\n",
    "            # Получаем вероятности\n",
    "            pred_prob = torch.softmax(logits, dim=1)[:, 1]\n",
    "            \n",
    "            # добавляем рельные и предсказанные метки\n",
    "            true_labels.extend(labels.cpu().numpy())\n",
    "            pred_probs.extend(pred_prob.cpu().numpy())\n",
    "            \n",
    "            # Суммируем потери на оценке\n",
    "            val_loss += loss_fn(logits, labels).item()\n",
    "            \n",
    "    # Вычисляем потерю на вскх батчах\n",
    "    val_loss /= len(val_loader)\n",
    "    val_losses.append(val_loss)\n",
    "    \n",
    "    # Вычисляем ROC AUC\n",
    "    fpr, tpr, thresholds = roc_curve(true_labels, pred_probs)\n",
    "    roc_auc = auc(fpr, tpr)\n",
    "    \n",
    "    \n",
    "    print(\"AUC:\", roc_auc)\n",
    "    print('Train_loss',train_loss, '\\n', 'Val_loss:', val_loss)\n",
    "    \n",
    "\n",
    "    \n",
    "\n"
   ]
  },
  {
   "cell_type": "code",
   "execution_count": 13,
   "id": "56d5d069",
   "metadata": {},
   "outputs": [
    {
     "data": {
      "image/png": "[encoded data removed]",
      "text/plain": [
       "<Figure size 1080x648 with 1 Axes>"
      ]
     },
     "metadata": {
      "needs_background": "light"
     },
     "output_type": "display_data"
    }
   ],
   "source": [
    "plt.figure(figsize=(15, 9))\n",
    "plt.plot(train_losses, label=\"train_loss\")\n",
    "plt.plot(val_losses, label=\"val_loss\")\n",
    "plt.legend(loc='best')\n",
    "plt.xlabel(\"epochs\")\n",
    "plt.ylabel(\"loss\")\n",
    "plt.show()"
   ]
  },
  {
   "cell_type": "code",
   "execution_count": 14,
   "id": "3b4c1d85",
   "metadata": {},
   "outputs": [],
   "source": [
    "torch.save(model.state_dict(), 'model.pth')"
   ]
  },
  {
   "cell_type": "code",
   "execution_count": 15,
   "id": "58616a61",
   "metadata": {},
   "outputs": [],
   "source": [
    "def submission(model, test_loader):\n",
    "    model.eval()\n",
    "    model.to('cpu')\n",
    "    res = {}\n",
    "    for name, data in test_loader:\n",
    "        out = model(data)\n",
    "        out = torch.softmax(out, dim=1)[:, 1].detach().numpy()\n",
    "        res[name[0]] = round(float(out), 4)\n",
    "    data = {'filename': res.keys(), 'blur': res.values()}\n",
    "    return pd.DataFrame(data=data)\n"
   ]
  },
  {
   "cell_type": "code",
   "execution_count": 16,
   "id": "4a6e2df4",
   "metadata": {
    "scrolled": true
   },
   "outputs": [],
   "source": [
    "submission = submission(model, test_loader)"
   ]
  },
  {
   "cell_type": "code",
   "execution_count": 17,
   "id": "d3658da4",
   "metadata": {},
   "outputs": [],
   "source": [
    "submission.to_csv('./submission.csv', index_label=False, index=False)"
   ]
  },
  {
   "cell_type": "code",
   "execution_count": 18,
   "id": "9d34df61",
   "metadata": {},
   "outputs": [
    {
     "data": {
      "text/html": [
       "<div>\n",
       "<style scoped>\n",
       "    .dataframe tbody tr th:only-of-type {\n",
       "        vertical-align: middle;\n",
       "    }\n",
       "\n",
       "    .dataframe tbody tr th {\n",
       "        vertical-align: top;\n",
       "    }\n",
       "\n",
       "    .dataframe thead th {\n",
       "        text-align: right;\n",
       "    }\n",
       "</style>\n",
       "<table border=\"1\" class=\"dataframe\">\n",
       "  <thead>\n",
       "    <tr style=\"text-align: right;\">\n",
       "      <th></th>\n",
       "      <th>filename</th>\n",
       "      <th>blur</th>\n",
       "    </tr>\n",
       "  </thead>\n",
       "  <tbody>\n",
       "    <tr>\n",
       "      <th>0</th>\n",
       "      <td>aamnsxdfcsnrdkyczxnm.jpg</td>\n",
       "      <td>0.2690</td>\n",
       "    </tr>\n",
       "    <tr>\n",
       "      <th>1</th>\n",
       "      <td>acgycwqzujjxrigweldc.jpg</td>\n",
       "      <td>0.2690</td>\n",
       "    </tr>\n",
       "    <tr>\n",
       "      <th>2</th>\n",
       "      <td>achfvibipchzipmhtjow.jpg</td>\n",
       "      <td>0.6998</td>\n",
       "    </tr>\n",
       "    <tr>\n",
       "      <th>3</th>\n",
       "      <td>adicqesamknapclvcesb.jpg</td>\n",
       "      <td>0.2690</td>\n",
       "    </tr>\n",
       "    <tr>\n",
       "      <th>4</th>\n",
       "      <td>aefilcxppgkwhnusvziq.jpg</td>\n",
       "      <td>0.2691</td>\n",
       "    </tr>\n",
       "    <tr>\n",
       "      <th>...</th>\n",
       "      <td>...</td>\n",
       "      <td>...</td>\n",
       "    </tr>\n",
       "    <tr>\n",
       "      <th>769</th>\n",
       "      <td>zxmhmmdojtrqcpzbfqmo.jpg</td>\n",
       "      <td>0.2690</td>\n",
       "    </tr>\n",
       "    <tr>\n",
       "      <th>770</th>\n",
       "      <td>zyeduzrzwbsdfogyaeug.jpg</td>\n",
       "      <td>0.2690</td>\n",
       "    </tr>\n",
       "    <tr>\n",
       "      <th>771</th>\n",
       "      <td>zyqqhnasbxwsbnbskifk.jpg</td>\n",
       "      <td>0.2712</td>\n",
       "    </tr>\n",
       "    <tr>\n",
       "      <th>772</th>\n",
       "      <td>zytbqidsjtourxzyfasw.jpg</td>\n",
       "      <td>0.2690</td>\n",
       "    </tr>\n",
       "    <tr>\n",
       "      <th>773</th>\n",
       "      <td>zzvskanujrkgxmzcqofh.jpg</td>\n",
       "      <td>0.6967</td>\n",
       "    </tr>\n",
       "  </tbody>\n",
       "</table>\n",
       "<p>774 rows × 2 columns</p>\n",
       "</div>"
      ],
      "text/plain": [
       "                     filename    blur\n",
       "0    aamnsxdfcsnrdkyczxnm.jpg  0.2690\n",
       "1    acgycwqzujjxrigweldc.jpg  0.2690\n",
       "2    achfvibipchzipmhtjow.jpg  0.6998\n",
       "3    adicqesamknapclvcesb.jpg  0.2690\n",
       "4    aefilcxppgkwhnusvziq.jpg  0.2691\n",
       "..                        ...     ...\n",
       "769  zxmhmmdojtrqcpzbfqmo.jpg  0.2690\n",
       "770  zyeduzrzwbsdfogyaeug.jpg  0.2690\n",
       "771  zyqqhnasbxwsbnbskifk.jpg  0.2712\n",
       "772  zytbqidsjtourxzyfasw.jpg  0.2690\n",
       "773  zzvskanujrkgxmzcqofh.jpg  0.6967\n",
       "\n",
       "[774 rows x 2 columns]"
      ]
     },
     "execution_count": 18,
     "metadata": {},
     "output_type": "execute_result"
    }
   ],
   "source": [
    "pd.read_csv('./submission.csv')"
   ]
  }
 ],
 "metadata": {
  "kernelspec": {
   "display_name": "Python 3 (ipykernel)",
   "language": "python",
   "name": "python3"
  },
  "language_info": {
   "codemirror_mode": {
    "name": "ipython",
    "version": 3
   },
   "file_extension": ".py",
   "mimetype": "text/x-python",
   "name": "python",
   "nbconvert_exporter": "python",
   "pygments_lexer": "ipython3",
   "version": "3.9.7"
  }
 },
 "nbformat": 4,
 "nbformat_minor": 5
}
